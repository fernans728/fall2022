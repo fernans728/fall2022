{
 "cells": [
  {
   "cell_type": "markdown",
   "id": "54c3b6a4",
   "metadata": {},
   "source": [
    "# More Practice\n",
    "\n",
    "```{note}\n",
    "these are listed by the date they were *posted*\n",
    "```"
   ]
  },
  {
   "cell_type": "code",
   "execution_count": 1,
   "id": "eb22d32c",
   "metadata": {
    "tags": [
     "hide-input"
    ]
   },
   "outputs": [],
   "source": [
    "import os\n",
    "from IPython.display import Markdown, display\n",
    "\n",
    "prep_file_list = sorted(os.listdir('../_practice/'))\n"
   ]
  },
  {
   "cell_type": "code",
   "execution_count": 2,
   "id": "7c936aef",
   "metadata": {
    "tags": [
     "hide-input"
    ]
   },
   "outputs": [
    {
     "data": {
      "text/markdown": [
       "[2022-09-12](../notes/2022-09-12)"
      ],
      "text/plain": [
       "<IPython.core.display.Markdown object>"
      ]
     },
     "metadata": {},
     "output_type": "display_data"
    },
    {
     "data": {
      "text/markdown": [
       "1. read Chapter 1, \"Decoding your confusion while coding\" in [The Programmer's Brain](https://www.manning.com/books/the-programmers-brain#toc) add a file called brain.md to your kwl repo that summarizes your thoughts on the chapter and how, if at all, it changes how you think about debugging and learning to program.\n"
      ],
      "text/plain": [
       "<IPython.core.display.Markdown object>"
      ]
     },
     "metadata": {},
     "output_type": "display_data"
    },
    {
     "data": {
      "text/markdown": [
       "[2022-09-14](../notes/2022-09-14)"
      ],
      "text/plain": [
       "<IPython.core.display.Markdown object>"
      ]
     },
     "metadata": {},
     "output_type": "display_data"
    },
    {
     "data": {
      "text/markdown": [
       "1. Download the course website and your group repo via terminal. Try these on different days to get \"sapced repetition\" and help remember better.\n",
       "1. Explore the difference between git add and git commit try committing and pushing without adding, then add and push without committing. Describe what happens in each case in your gitoffline.md\n"
      ],
      "text/plain": [
       "<IPython.core.display.Markdown object>"
      ]
     },
     "metadata": {},
     "output_type": "display_data"
    },
    {
     "data": {
      "text/markdown": [
       "[2022-09-19](../notes/2022-09-19)"
      ],
      "text/plain": [
       "<IPython.core.display.Markdown object>"
      ]
     },
     "metadata": {},
     "output_type": "display_data"
    },
    {
     "data": {
      "text/markdown": [
       "1. Once your PRs in your kwl are merged, add a Table of Contents to the README with relative links to each file\n",
       "1. Add cheatsheet entry to your team repo to do something of interest with git or shell. Make an issue for it first and assign yourself so that your team mates know you are working on that topic. \n"
      ],
      "text/plain": [
       "<IPython.core.display.Markdown object>"
      ]
     },
     "metadata": {},
     "output_type": "display_data"
    },
    {
     "data": {
      "text/markdown": [
       "[2022-09-21](../notes/2022-09-21)"
      ],
      "text/plain": [
       "<IPython.core.display.Markdown object>"
      ]
     },
     "metadata": {},
     "output_type": "display_data"
    },
    {
     "data": {
      "text/markdown": [
       "1. Try creating a merge conflict and resolving it using your favorite IDE.\n"
      ],
      "text/plain": [
       "<IPython.core.display.Markdown object>"
      ]
     },
     "metadata": {},
     "output_type": "display_data"
    },
    {
     "data": {
      "text/markdown": [
       "[2022-09-26](../notes/2022-09-26)"
      ],
      "text/plain": [
       "<IPython.core.display.Markdown object>"
      ]
     },
     "metadata": {},
     "output_type": "display_data"
    },
    {
     "data": {
      "text/markdown": [
       "1. add a hardware term to your group repo.  Remember to check other issues and then post an issue and self-assign it before you start working so that two people do not make the same one.  Review one other PR.\n",
       "1. Expand on your update to `abstraction.md`: Can you reconcile different ways you have seen memory before?\n",
       "1. Try understanding the max.hack and rect.hack. Make notes and answer the questions below in `assemblyexplore.md`.\n",
       "\n",
       "```\n",
       "1. Explain how max.hack works in detail.\n",
       "1. Write code in a high level language that would compile into this program. Try writing multiple different versions.\n",
       "1. What does this max.hack assume has happened that it doesn't include in its body.\n",
       "1. What does rect.hack do?  \n",
       "1. What did you learn trying to figure out how it works? \n",
       "```\n"
      ],
      "text/plain": [
       "<IPython.core.display.Markdown object>"
      ]
     },
     "metadata": {},
     "output_type": "display_data"
    }
   ],
   "source": [
    "for prep_file in prep_file_list:\n",
    "    date_str = prep_file[:-3]\n",
    "    date_link = '[' + date_str + '](../notes/' + date_str + ')'\n",
    "    display(Markdown(date_link))\n",
    "    display(Markdown('../_practice/' + prep_file))"
   ]
  }
 ],
 "metadata": {
  "jupytext": {
   "text_representation": {
    "extension": ".md",
    "format_name": "myst",
    "format_version": 0.13,
    "jupytext_version": "1.10.3"
   }
  },
  "kernelspec": {
   "display_name": "Python 3",
   "language": "python",
   "name": "python3"
  },
  "language_info": {
   "codemirror_mode": {
    "name": "ipython",
    "version": 3
   },
   "file_extension": ".py",
   "mimetype": "text/x-python",
   "name": "python",
   "nbconvert_exporter": "python",
   "pygments_lexer": "ipython3",
   "version": "3.8.14"
  },
  "source_map": [
   12,
   20,
   30
  ]
 },
 "nbformat": 4,
 "nbformat_minor": 5
}