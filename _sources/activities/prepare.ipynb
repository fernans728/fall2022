{
 "cells": [
  {
   "cell_type": "markdown",
   "id": "0b61e0e5",
   "metadata": {},
   "source": [
    "# Prepare for the next class\n",
    "\n",
    "```{warning}\n",
    "these are listed by the date they were *posted* (eg the content here under Feb 1, was posted Feb 1, and should be done before the Feb 3 class)\n",
    "\n",
    "*below* refers to following in the notes\n",
    "```"
   ]
  },
  {
   "cell_type": "code",
   "execution_count": 1,
   "id": "04008651",
   "metadata": {
    "tags": [
     "hide-input"
    ]
   },
   "outputs": [],
   "source": [
    "import os\n",
    "from IPython.display import Markdown, display\n",
    "\n",
    "prep_file_list = sorted(os.listdir('../_prepare/'))\n"
   ]
  },
  {
   "cell_type": "code",
   "execution_count": 2,
   "id": "03fd7a82",
   "metadata": {
    "tags": [
     "hide-input"
    ]
   },
   "outputs": [
    {
     "data": {
      "text/markdown": [
       "[2022-09-07](../notes/2022-09-07)"
      ],
      "text/plain": [
       "<IPython.core.display.Markdown object>"
      ]
     },
     "metadata": {},
     "output_type": "display_data"
    },
    {
     "data": {
      "text/markdown": [
       "- Read the syllabus, explore [website](https://introcompsys.github.io/fall2022/)\n",
       "- Bring questions about the course\n",
       "- Think about one thing you've learned really well (computing or not) and how do you know that you know it?  (bring your example)\n",
       "- Post an introduction to your classmates [on our discussion forum](https://github.com/introcompsys/fa22community/discussions/1)\n"
      ],
      "text/plain": [
       "<IPython.core.display.Markdown object>"
      ]
     },
     "metadata": {},
     "output_type": "display_data"
    },
    {
     "data": {
      "text/markdown": [
       "[2022-09-12](../notes/2022-09-12)"
      ],
      "text/plain": [
       "<IPython.core.display.Markdown object>"
      ]
     },
     "metadata": {},
     "output_type": "display_data"
    },
    {
     "data": {
      "text/markdown": [
       "1. find 2-3 examples of things in programming you have got working, but did not really understand. this could be errors you fixed, or something you just know you're supposed to do, but not why. Add them to our course [Discussions in General](https://github.com/introcompsys/fa22community/discussions/categories/general).  Start a new thread and/or comment on others if theirs are related to yours.\n",
       "1. Make sure you have a working environment for next week. Use slack to ask for help.\n",
       "    - install [GitBash](https://gitforwindows.org/) on windows (optional for others)\n",
       "    - make sure you have Xcode on MacOS\n",
       "    - install [the GitHub CLI](https://github.com/cli/cli#installation) on all OSs\n"
      ],
      "text/plain": [
       "<IPython.core.display.Markdown object>"
      ]
     },
     "metadata": {},
     "output_type": "display_data"
    }
   ],
   "source": [
    "for prep_file in prep_file_list:\n",
    "    date_str = prep_file[:-3]\n",
    "    date_link = '[' + date_str + '](../notes/' + date_str + ')'\n",
    "    display(Markdown(date_link))\n",
    "    display(Markdown('../_prepare/' + prep_file))"
   ]
  }
 ],
 "metadata": {
  "jupytext": {
   "text_representation": {
    "extension": ".md",
    "format_name": "myst",
    "format_version": 0.13,
    "jupytext_version": "1.10.3"
   }
  },
  "kernelspec": {
   "display_name": "Python 3",
   "language": "python",
   "name": "python3"
  },
  "language_info": {
   "codemirror_mode": {
    "name": "ipython",
    "version": 3
   },
   "file_extension": ".py",
   "mimetype": "text/x-python",
   "name": "python",
   "nbconvert_exporter": "python",
   "pygments_lexer": "ipython3",
   "version": "3.8.13"
  },
  "source_map": [
   12,
   22,
   32
  ]
 },
 "nbformat": 4,
 "nbformat_minor": 5
}