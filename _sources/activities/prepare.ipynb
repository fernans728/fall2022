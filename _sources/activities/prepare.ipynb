{
 "cells": [
  {
   "cell_type": "markdown",
   "id": "537cdcb9",
   "metadata": {},
   "source": [
    "# Prepare for the next class\n",
    "\n",
    "```{warning}\n",
    "these are listed by the date they were *posted* (eg the content here under Feb 1, was posted Feb 1, and should be done before the Feb 3 class)\n",
    "\n",
    "*below* refers to following in the notes\n",
    "```"
   ]
  },
  {
   "cell_type": "code",
   "execution_count": 1,
   "id": "235fecb5",
   "metadata": {
    "tags": [
     "hide-input"
    ]
   },
   "outputs": [],
   "source": [
    "import os\n",
    "from IPython.display import Markdown, display\n",
    "\n",
    "prep_file_list = sorted(os.listdir('../_prepare/'))\n"
   ]
  },
  {
   "cell_type": "code",
   "execution_count": 2,
   "id": "f4499c24",
   "metadata": {
    "tags": [
     "hide-input"
    ]
   },
   "outputs": [
    {
     "data": {
      "text/markdown": [
       "[2022-09-07](../notes/2022-09-07)"
      ],
      "text/plain": [
       "<IPython.core.display.Markdown object>"
      ]
     },
     "metadata": {},
     "output_type": "display_data"
    },
    {
     "data": {
      "text/markdown": [
       "- Read the syllabus, explore [website](https://introcompsys.github.io/fall2022/)\n",
       "- Bring questions about the course\n",
       "- Think about one thing you've learned really well (computing or not) and how do you know that you know it?  (bring your example)\n",
       "- Post an introduction to your classmates [on our discussion forum](https://github.com/introcompsys/fa22community/discussions/1)\n"
      ],
      "text/plain": [
       "<IPython.core.display.Markdown object>"
      ]
     },
     "metadata": {},
     "output_type": "display_data"
    }
   ],
   "source": [
    "for prep_file in prep_file_list:\n",
    "    date_str = prep_file[:-3]\n",
    "    date_link = '[' + date_str + '](../notes/' + date_str + ')'\n",
    "    display(Markdown(date_link))\n",
    "    display(Markdown('../_prepare/' + prep_file))"
   ]
  }
 ],
 "metadata": {
  "jupytext": {
   "text_representation": {
    "extension": ".md",
    "format_name": "myst",
    "format_version": 0.13,
    "jupytext_version": "1.10.3"
   }
  },
  "kernelspec": {
   "display_name": "Python 3",
   "language": "python",
   "name": "python3"
  },
  "language_info": {
   "codemirror_mode": {
    "name": "ipython",
    "version": 3
   },
   "file_extension": ".py",
   "mimetype": "text/x-python",
   "name": "python",
   "nbconvert_exporter": "python",
   "pygments_lexer": "ipython3",
   "version": "3.8.13"
  },
  "source_map": [
   12,
   22,
   32
  ]
 },
 "nbformat": 4,
 "nbformat_minor": 5
}