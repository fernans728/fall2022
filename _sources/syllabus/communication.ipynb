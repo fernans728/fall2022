{
 "cells": [
  {
   "cell_type": "markdown",
   "id": "189edf78",
   "metadata": {},
   "source": [
    "# Office Hours & Comms"
   ]
  },
  {
   "cell_type": "code",
   "execution_count": 1,
   "id": "3cb665e8",
   "metadata": {
    "tags": [
     "remove-input"
    ]
   },
   "outputs": [],
   "source": [
    "import pandas as pd\n",
    "from IPython.display import display, Markdown, HTML\n",
    "pd.set_option('display.max_colwidth', 0)\n",
    "# df = pd.read_csv('../_data/communication.csv')\n",
    "\n",
    "help_df = pd.read_csv('../_data/help_hours.csv')"
   ]
  },
  {
   "cell_type": "markdown",
   "id": "7a007276",
   "metadata": {},
   "source": [
    "## Help Hours\n",
    "\n",
    "TBA\n",
    "\n",
    "<!--\n",
    "```{code-cell}\n",
    ":tags: [\"remove-input\"]\n",
    "\n",
    "help_df.style.hide_index()\n",
    "``` -->\n",
    "Online office hours locations are linked in the #help channel on slack\n",
    "<!--\n",
    "\n",
    "We have several different ways to communicate in this course. This section summarizes them -->\n",
    "\n",
    "<!--\n",
    "## To reach out, By usage\n",
    "\n",
    "```{code-cell}\n",
    ":tags: [\"remove-input\"]\n",
    "\n",
    "df = df[['usage','platform','area','note']]\n",
    "display(HTML(df.style.hide_index()._repr_html_()))\n",
    "```\n",
    "\n",
    "```{note}\n",
    "e-mail is last because it's not collaborative; other platforms allow us (Proessor + TA) to collaborate on who responds to things more easily.\n",
    "```\n",
    "\n",
    "## By Platform\n",
    "\n",
    "```{code-cell}\n",
    ":tags: [\"remove-input\"]\n",
    "\n",
    "for platform, data in df.groupby('platform'):\n",
    "    display(HTML('<h3> Use '+ platform + ' for </h3>'))\n",
    "    display(HTML(data.drop(columns='platform').style.hide_index()._repr_html_()))\n",
    "\n",
    "``` -->\n",
    "\n",
    "## Tips\n",
    "\n",
    "### For assignment help\n",
    "\n",
    "- **send in advance, leave time for a response** I check e-mail/github a small number of times per day, during work hours, almost exclusively. You might see me post to this site, post to BrightSpace, or comment on your assignments outside of my normal working hours, but I will not reliably see emails that arrive during those hours. This means that it is important to start assignments early.\n",
    "\n",
    "### Using issues\n",
    "\n",
    "- use issues for content directly related to assignments.  If you push your code to the repository and then open an issue, I can see your code and your question at the same time and download it to run it if I need to debug it\n",
    "- use issues for questions about this syllabus or class notes. At the top right there's a GitHub logo <i class=\"fab fa-github\"></i> that allows you to open a issue (for a question) or suggest an edit (eg if you think there's a typo or you find an additional helpful resource related to something)\n",
    "\n",
    "### For E-mail\n",
    "\n",
    "- use e-mail for general inquiries or notifications\n",
    "- Please include `[CSC392]`  in the subject line of your email along with the topic of your message. This is important, because your messages are important, but I also get a lot of e-mail. Consider these a cheat code to my inbox: I have setup a filter that will flag your e-mail if you include that in subject to ensure that I see it."
   ]
  }
 ],
 "metadata": {
  "jupytext": {
   "text_representation": {
    "extension": ".md",
    "format_name": "myst",
    "format_version": 0.13,
    "jupytext_version": "1.10.3"
   }
  },
  "kernelspec": {
   "display_name": "Python 3",
   "language": "python",
   "name": "python3"
  },
  "language_info": {
   "codemirror_mode": {
    "name": "ipython",
    "version": 3
   },
   "file_extension": ".py",
   "mimetype": "text/x-python",
   "name": "python",
   "nbconvert_exporter": "python",
   "pygments_lexer": "ipython3",
   "version": "3.8.13"
  },
  "source_map": [
   12,
   20,
   29
  ]
 },
 "nbformat": 4,
 "nbformat_minor": 5
}